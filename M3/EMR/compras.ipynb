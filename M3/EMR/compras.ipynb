{
 "cells": [
  {
   "cell_type": "code",
   "execution_count": null,
   "id": "aed13dac-91af-43b7-b1fb-963ac95c11c6",
   "metadata": {
    "executionRoleArn": "arn:aws:iam::432600844323:role/service-role/AmazonEMRStudio_RuntimeRole_1736180262981",
    "tags": []
   },
   "outputs": [],
   "source": [
    "from pyspark.sql import SparkSession\n",
    "from pyspark.sql.functions import col, unix_timestamp, lit, lag, split, udf\n",
    "from pyspark.sql.types import DoubleType\n",
    "from pyspark.sql.window import Window\n",
    "from math import radians, sin, cos, sqrt, atan2\n",
    "import math"
   ]
  },
  {
   "cell_type": "code",
   "execution_count": null,
   "id": "6eced63f-50d7-4e5b-b9c7-6027b7db8c6a",
   "metadata": {
    "executionRoleArn": "arn:aws:iam::432600844323:role/service-role/AmazonEMRStudio_RuntimeRole_1736180262981",
    "tags": []
   },
   "outputs": [],
   "source": [
    "# Função Haversine\n",
    "def haversine(lat1, lon1, lat2, lon2):\n",
    "    if None in [lat1, lon1, lat2, lon2]:  # Lida com valores nulos\n",
    "        return None\n",
    "    R = 6371  # Raio da Terra em km\n",
    "    phi1, phi2 = math.radians(lat1), math.radians(lat2)\n",
    "    delta_phi = math.radians(lat2 - lat1)\n",
    "    delta_lambda = math.radians(lon2 - lon1)\n",
    "    a = math.sin(delta_phi / 2) ** 2 + math.cos(phi1) * math.cos(phi2) * math.sin(delta_lambda / 2) ** 2\n",
    "    return R * (2 * math.atan2(math.sqrt(a), math.sqrt(1 - a)))"
   ]
  },
  {
   "cell_type": "code",
   "execution_count": null,
   "id": "f086d17c-60be-4c3c-9d5c-f91cc9c6f12d",
   "metadata": {
    "executionRoleArn": "arn:aws:iam::432600844323:role/service-role/AmazonEMRStudio_RuntimeRole_1736180262981",
    "tags": []
   },
   "outputs": [],
   "source": [
    "# Registrar como UDF\n",
    "haversine_udf = udf(haversine, DoubleType())"
   ]
  },
  {
   "cell_type": "code",
   "execution_count": null,
   "id": "9678de9a-73a5-41d9-b0c1-78c628030087",
   "metadata": {
    "executionRoleArn": "arn:aws:iam::432600844323:role/service-role/AmazonEMRStudio_RuntimeRole_1736180262981",
    "tags": []
   },
   "outputs": [],
   "source": [
    "# Inicializar a sessão do Spark\n",
    "spark = SparkSession.builder.appName(\"Fraud Detection\").getOrCreate()"
   ]
  },
  {
   "cell_type": "code",
   "execution_count": null,
   "id": "e336fed3-645a-4352-b531-0ec92c176d6f",
   "metadata": {
    "executionRoleArn": "arn:aws:iam::432600844323:role/service-role/AmazonEMRStudio_RuntimeRole_1736180262981",
    "tags": []
   },
   "outputs": [],
   "source": [
    "# Caminho do arquivo no bucket S3\n",
    "input_path = \"s3://aws-emr-studio-432600844323-us-east-1/1736180251020/e-3K4ZJDEXJZTKO382BVWX4D3PO/compras_2k_fraudes.log\""
   ]
  },
  {
   "cell_type": "code",
   "execution_count": null,
   "id": "06d6f5fd-0689-408e-94bf-6ef6016ce4a8",
   "metadata": {
    "executionRoleArn": "arn:aws:iam::432600844323:role/service-role/AmazonEMRStudio_RuntimeRole_1736180262981",
    "tags": []
   },
   "outputs": [],
   "source": [
    "# Carregar o arquivo de logs\n",
    "df = spark.read.csv(input_path, header=True, inferSchema=True)"
   ]
  },
  {
   "cell_type": "code",
   "execution_count": null,
   "id": "9baed1a9-c574-442d-a841-7c19e5ded040",
   "metadata": {
    "executionRoleArn": "arn:aws:iam::432600844323:role/service-role/AmazonEMRStudio_RuntimeRole_1736180262981",
    "tags": []
   },
   "outputs": [],
   "source": [
    "df.show()"
   ]
  },
  {
   "cell_type": "code",
   "execution_count": null,
   "id": "6c99b566-b667-4a93-bcd2-8d5d5df3fb76",
   "metadata": {
    "executionRoleArn": "arn:aws:iam::432600844323:role/service-role/AmazonEMRStudio_RuntimeRole_1736180262981",
    "tags": []
   },
   "outputs": [],
   "source": [
    "# Exibir o esquema dos dados\n",
    "df.printSchema()"
   ]
  },
  {
   "cell_type": "code",
   "execution_count": null,
   "id": "a18ebca8-eb51-45ca-8b29-567c8b0ba964",
   "metadata": {
    "executionRoleArn": "arn:aws:iam::432600844323:role/service-role/AmazonEMRStudio_RuntimeRole_1736180262981",
    "tags": []
   },
   "outputs": [],
   "source": [
    "# Janela para verificar compras consecutivas por CPF\n",
    "window_spec = Window.partitionBy(\"CPF\").orderBy(\"Data_Hora\")"
   ]
  },
  {
   "cell_type": "code",
   "execution_count": null,
   "id": "91949d69-4e43-4696-8667-69ef8c93b066",
   "metadata": {
    "executionRoleArn": "arn:aws:iam::432600844323:role/service-role/AmazonEMRStudio_RuntimeRole_1736180262981",
    "tags": []
   },
   "outputs": [],
   "source": [
    "# Converter a coluna de Data_Hora para o formato timestamp\n",
    "df = df.withColumn(\"Data_Hora\", unix_timestamp(col(\"Data_Hora\"), \"yyyy-MM-dd HH:mm:ss\").cast(\"timestamp\"))"
   ]
  },
  {
   "cell_type": "code",
   "execution_count": null,
   "id": "11236fc4-0635-4557-86e5-3656aa1adf81",
   "metadata": {
    "executionRoleArn": "arn:aws:iam::432600844323:role/service-role/AmazonEMRStudio_RuntimeRole_1736180262981",
    "tags": []
   },
   "outputs": [],
   "source": [
    "# Calcular o tempo entre compras consecutivas\n",
    "df = df.withColumn(\"Tempo_Entre_Compras\", unix_timestamp(col(\"Data_Hora\")) - lag(unix_timestamp(col(\"Data_Hora\"))).over(window_spec))"
   ]
  },
  {
   "cell_type": "code",
   "execution_count": null,
   "id": "214ec814-7847-4398-bef9-2a7a9aa9e375",
   "metadata": {
    "executionRoleArn": "arn:aws:iam::432600844323:role/service-role/AmazonEMRStudio_RuntimeRole_1736180262981",
    "tags": []
   },
   "outputs": [],
   "source": [
    "# Adicionar flag para compras impossíveis com base na distância e tempo de compra\n",
    "df = df.withColumn(\n",
    "    \"Risco_Fraude\",\n",
    "    (col(\"Compra_Virtual\") == lit(False)) & (col(\"Tempo_Entre_Compras\") < 3600)  # Compras físicas em cidades distantes no mesmo intervalo\n",
    ")"
   ]
  },
  {
   "cell_type": "code",
   "execution_count": null,
   "id": "56d91f6c-6219-4cc3-a056-3b0c45bd86f3",
   "metadata": {
    "executionRoleArn": "arn:aws:iam::432600844323:role/service-role/AmazonEMRStudio_RuntimeRole_1736180262981",
    "tags": []
   },
   "outputs": [],
   "source": [
    "df.show()"
   ]
  },
  {
   "cell_type": "code",
   "execution_count": null,
   "id": "100806e7-dae1-4392-b3ea-0e4fa993ed35",
   "metadata": {
    "executionRoleArn": "arn:aws:iam::432600844323:role/service-role/AmazonEMRStudio_RuntimeRole_1736180262981",
    "tags": []
   },
   "outputs": [],
   "source": [
    "# Calcular a distância\n",
    "df = df.withColumn(\n",
    "    \"Distancia_Cidades\",\n",
    "    haversine_udf(\n",
    "        col(\"latitude\"),\n",
    "        col(\"longitude\"),\n",
    "        lag(col(\"latitude\")).over(window_spec),\n",
    "        lag(col(\"longitude\")).over(window_spec)\n",
    "    )\n",
    ")\n"
   ]
  },
  {
   "cell_type": "code",
   "execution_count": null,
   "id": "0692ffbd-51e1-4ca3-bfa2-537212f06a8e",
   "metadata": {
    "executionRoleArn": "arn:aws:iam::432600844323:role/service-role/AmazonEMRStudio_RuntimeRole_1736180262981",
    "tags": []
   },
   "outputs": [],
   "source": [
    "# Condição de risco (compras físicas em cidades > 100 km no mesmo intervalo de tempo)\n",
    "df = df.withColumn(\n",
    "    \"Suspeita_Fraude\",\n",
    "    (col(\"Distancia_Cidades\") > 100) & (col(\"Tempo_Entre_Compras\") < 3600)  # Distância maior que 100km e intervalo menor que 60min\n",
    ")"
   ]
  },
  {
   "cell_type": "code",
   "execution_count": null,
   "id": "e88d45bf-fd3e-46c9-b071-a92cc6642b74",
   "metadata": {
    "executionRoleArn": "arn:aws:iam::432600844323:role/service-role/AmazonEMRStudio_RuntimeRole_1736180262981",
    "tags": []
   },
   "outputs": [],
   "source": [
    "# Filtrar compras suspeitas\n",
    "fraudes = df.filter(col(\"Suspeita_Fraude\") == lit(True))"
   ]
  },
  {
   "cell_type": "code",
   "execution_count": null,
   "id": "95872e8a-e60c-4f64-b80e-c77032ddd621",
   "metadata": {
    "executionRoleArn": "arn:aws:iam::432600844323:role/service-role/AmazonEMRStudio_RuntimeRole_1736180262981",
    "tags": []
   },
   "outputs": [],
   "source": [
    "# Salvar resultado em um bucket S3\n",
    "output_path = \"s3://aws-emr-studio-432600844323-us-east-1/1736180251020/e-3K4ZJDEXJZTKO382BVWX4D3PO/suspect_purchases/\"  # Substitua pelo seu bucket S3\n",
    "fraudes.write.csv(output_path, header=True, mode=\"overwrite\")"
   ]
  },
  {
   "cell_type": "code",
   "execution_count": null,
   "id": "af0b9a2f-1bde-47bf-b7c2-30735fc179ec",
   "metadata": {
    "executionRoleArn": "arn:aws:iam::432600844323:role/service-role/AmazonEMRStudio_RuntimeRole_1736180262981",
    "tags": []
   },
   "outputs": [],
   "source": [
    "# Exibir as fraudes encontradas\n",
    "fraudes.show(truncate=False)"
   ]
  },
  {
   "cell_type": "code",
   "execution_count": null,
   "id": "b5f6bce3-03f2-42e0-8426-5aefaaf14272",
   "metadata": {
    "executionRoleArn": "arn:aws:iam::432600844323:role/service-role/AmazonEMRStudio_RuntimeRole_1736180262981",
    "tags": []
   },
   "outputs": [],
   "source": [
    "# Encerrar sessão do Spark\n",
    "spark.stop()"
   ]
  },
  {
   "cell_type": "code",
   "execution_count": null,
   "id": "4f3250c3-e2ec-4998-915d-921b182f3e26",
   "metadata": {},
   "outputs": [],
   "source": []
  }
 ],
 "metadata": {
  "kernelspec": {
   "display_name": "PySpark",
   "language": "python",
   "name": "spark_magic_pyspark"
  },
  "language_info": {
   "codemirror_mode": {
    "name": "python",
    "version": 3
   },
   "file_extension": ".py",
   "mimetype": "text/x-python",
   "name": "pyspark",
   "pygments_lexer": "python3"
  }
 },
 "nbformat": 4,
 "nbformat_minor": 5
}
